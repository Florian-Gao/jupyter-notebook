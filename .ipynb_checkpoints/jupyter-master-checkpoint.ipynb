{
 "cells": [
  {
   "cell_type": "markdown",
   "metadata": {},
   "source": [
    "# install\n",
    "对于Anacanda安装，如果没有，命令行 \n",
    "```\n",
    "conda install jupyter notebook\n",
    "```\n",
    "\n",
    "# operate jupyter notebook\n",
    "## help\n",
    "```\n",
    "jupyter notebook --help\n",
    "or\n",
    "jupyter notebook --h\n",
    "```\n",
    "\n",
    "## launch\n",
    "```\n",
    "jupyter notebook\n",
    "```\n",
    "\n",
    "## designated port start\n",
    "```\n",
    "jupyter notebook --port<port_number>\n",
    "such as\n",
    "jupyter notebook --port 9999\n",
    "#start at port 9999 \n",
    "```\n",
    "\n",
    "\n",
    "\n",
    "```\n",
    "快捷方式\n",
    "y/m  代码/markdown转换\n",
    "a/d 在上方建立代码块/下方建立代码块\n",
    "c/x/v 复制/剪切/粘贴\n",
    "d delete\n",
    "```\n",
    "<font color='red'>h 出现快捷键</font>\n",
    "\n",
    "```\n",
    "l 代码标行数\n",
    "$公式输入，行内\n",
    "$$ 公式输入，单独行\n",
    "```"
   ]
  },
  {
   "cell_type": "code",
   "execution_count": null,
   "metadata": {},
   "outputs": [],
   "source": []
  }
 ],
 "metadata": {
  "kernelspec": {
   "display_name": "Python 3",
   "language": "python",
   "name": "python3"
  },
  "language_info": {
   "codemirror_mode": {
    "name": "ipython",
    "version": 3
   },
   "file_extension": ".py",
   "mimetype": "text/x-python",
   "name": "python",
   "nbconvert_exporter": "python",
   "pygments_lexer": "ipython3",
   "version": "3.7.3"
  }
 },
 "nbformat": 4,
 "nbformat_minor": 2
}
